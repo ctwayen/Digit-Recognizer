{
 "cells": [
  {
   "cell_type": "code",
   "execution_count": 86,
   "metadata": {},
   "outputs": [],
   "source": [
    "# import section\n",
    "import cv2 #如果更加习惯用其他库比如说skimage就用自己最熟悉的，没有必要用opencv\n",
    "import numpy as np\n",
    "import matplotlib.pyplot as plt\n",
    "import os\n",
    "import pandas as pd"
   ]
  },
  {
   "cell_type": "code",
   "execution_count": 87,
   "metadata": {},
   "outputs": [],
   "source": [
    "data_dir = 'data'\n",
    "test_dir = os.path.join(data_dir, 'test.csv')\n",
    "train_dir = os.path.join(data_dir, 'train.csv')"
   ]
  },
  {
   "cell_type": "markdown",
   "metadata": {},
   "source": [
    "后面的代码为了演示如何读取图片并准备我们的training data，代码先把dataframe拆分储存为一个个的图片，然后示范了如何读取图片并标号label，再用sklearn split train and test data.\n",
    "\n",
    "\n",
    "https://www.kaggle.com/yassineghouzam/introduction-to-cnn-keras-0-997-top-6/notebook#2.-Data-preparation\n",
    "可以参照这个高赞的notebook 的data preparation部分，他是没有储存图片的，而是直接用的2d matrices (实际上是3d因为keras的cnn model只接受3d的图像数据, 所以他添加了一个)。通常来说如果我们有了所有图片的matrices data我们是不会去储存下来的（占用太多的空间，并且我们传进我们的model的数据也是matrices）。但是除开这个project以外的其他CV的project，所给的数据都是以图片的形式储存的，很少会有这种给一个dataframe的情况（这个proj的图片太简单了只包含了784 pixels，正常的图片包含了数百倍pixels，用dataframe储存所有不现实）\n",
    "\n"
   ]
  },
  {
   "cell_type": "markdown",
   "metadata": {},
   "source": [
    "根据kaggle 给的data description:\n",
    "\n",
    "The data files train.csv and test.csv contain gray-scale images of hand-drawn digits, from zero through nine.\n",
    "\n",
    "Each image is 28 pixels in height and 28 pixels in width, for a total of 784 pixels in total. Each pixel has a single pixel-value associated with it, indicating the lightness or darkness of that pixel, with higher numbers meaning darker. This pixel-value is an integer between 0 and 255, inclusive.\n",
    "\n",
    "The training data set, (train.csv), has 785 columns. The first column, called \"label\", is the digit that was drawn by the user. The rest of the columns contain the pixel-values of the associated image.\n",
    "\n",
    "Each pixel column in the training set has a name like pixelx, where x is an integer between 0 and 783, inclusive. To locate this pixel on the image, suppose that we have decomposed x as x = i * 28 + j, where i and j are integers between 0 and 27, inclusive. Then pixelx is located on row i and column j of a 28 x 28 matrix, (indexing by zero).\n",
    "\n",
    "For example, pixel31 indicates the pixel that is in the fourth column from the left, and the second row from the top, as in the ascii-diagram below.\n"
   ]
  },
  {
   "cell_type": "code",
   "execution_count": 88,
   "metadata": {},
   "outputs": [
    {
     "data": {
      "text/plain": [
       "(42000, 785)"
      ]
     },
     "metadata": {},
     "output_type": "display_data"
    }
   ],
   "source": [
    "# 首先用pd读取一下看一下数据\n",
    "train_df = pd.read_csv(train_dir)\n",
    "display(train_df.shape)\n",
    "# 根据介绍，一共有42000张图片，每张图片包含了28*28 = 784pixels"
   ]
  },
  {
   "cell_type": "code",
   "execution_count": 89,
   "metadata": {},
   "outputs": [
    {
     "data": {
      "text/plain": [
       "1"
      ]
     },
     "metadata": {},
     "output_type": "display_data"
    },
    {
     "data": {
      "text/plain": [
       "(28, 28)"
      ]
     },
     "metadata": {},
     "output_type": "display_data"
    }
   ],
   "source": [
    "# 用你一张图片当作example来看看这个图片长啥样\n",
    "first_img= train_df.iloc[0,:] # 第一张图\n",
    "label, pixels = first_img[0], np.array(first_img[1:]) # 第一个column代表了label，后面的都是pixels\n",
    "pixels = np.reshape(pixels, (28, 28)) # 将784的1d数组按照规矩转换成2d\n",
    "display(label, pixels.shape)"
   ]
  },
  {
   "cell_type": "code",
   "execution_count": 90,
   "metadata": {},
   "outputs": [
    {
     "data": {
      "text/plain": [
       "True"
      ]
     },
     "execution_count": 90,
     "metadata": {},
     "output_type": "execute_result"
    },
    {
     "data": {
      "image/png": "[encoded data removed]",
      "text/plain": [
       "<Figure size 432x288 with 1 Axes>"
      ]
     },
     "metadata": {
      "needs_background": "light"
     },
     "output_type": "display_data"
    }
   ],
   "source": [
    "# 用matplotlib自带的imshow看一下这张图长啥样\n",
    "plt.imshow(pixels, cmap=\"Greys\")\n",
    "# 用cv2储存下来\n",
    "cv2.imwrite(os.path.join(data_dir, 'example1.jpg'), pixels)"
   ]
  },
  {
   "cell_type": "code",
   "execution_count": 91,
   "metadata": {},
   "outputs": [
    {
     "data": {
      "text/plain": [
       "<matplotlib.image.AxesImage at 0x26404f8aa90>"
      ]
     },
     "execution_count": 91,
     "metadata": {},
     "output_type": "execute_result"
    },
    {
     "data": {
      "image/png": "[encoded data removed]",
      "text/plain": [
       "<Figure size 432x288 with 1 Axes>"
      ]
     },
     "metadata": {
      "needs_background": "light"
     },
     "output_type": "display_data"
    }
   ],
   "source": [
    "# 用cv2重新读取，检测我们图片是否正确储存了\n",
    "check = cv2.imread(os.path.join(data_dir, 'example1.jpg'), cv2.IMREAD_GRAYSCALE) # Imread_greyscale 能够让我们读取grey images\n",
    "plt.imshow(check, cmap='Greys')"
   ]
  },
  {
   "cell_type": "code",
   "execution_count": 92,
   "metadata": {},
   "outputs": [],
   "source": [
    "# 确定了pattern以后，我们把所有的image都存下来\n",
    "def store_image(image_path, pixels):\n",
    "    pixels = np.reshape(pixels, (28, 28))\n",
    "    cv2.imwrite(image_path, pixels)"
   ]
  },
  {
   "cell_type": "code",
   "execution_count": 93,
   "metadata": {},
   "outputs": [],
   "source": [
    "# 建立10个文件夹来储存对应label的images\n",
    "train_data_dir = os.path.join(data_dir, 'train_data')\n",
    "os.mkdir(train_data_dir)\n",
    "for i in range(10):\n",
    "    # i represent labels 0 to 9\n",
    "    os.mkdir(os.path.join(train_data_dir, str(i)))"
   ]
  },
  {
   "cell_type": "code",
   "execution_count": 94,
   "metadata": {},
   "outputs": [
    {
     "name": "stdout",
     "output_type": "stream",
     "text": [
      "Adding 4132 photos to folder data\\train_data\\0\n",
      "done\n",
      "Adding 4684 photos to folder data\\train_data\\1\n",
      "done\n",
      "Adding 4177 photos to folder data\\train_data\\2\n",
      "done\n",
      "Adding 4351 photos to folder data\\train_data\\3\n",
      "done\n",
      "Adding 4072 photos to folder data\\train_data\\4\n",
      "done\n",
      "Adding 3795 photos to folder data\\train_data\\5\n",
      "done\n",
      "Adding 4137 photos to folder data\\train_data\\6\n",
      "done\n",
      "Adding 4401 photos to folder data\\train_data\\7\n",
      "done\n",
      "Adding 4063 photos to folder data\\train_data\\8\n",
      "done\n",
      "Adding 4188 photos to folder data\\train_data\\9\n",
      "done\n"
     ]
    }
   ],
   "source": [
    "# 将所有图片储存至对应文件夹\n",
    "grps = train_df.groupby('label')\n",
    "for name, group in grps:\n",
    "    num_grp = len(group) #获取每个label有多少images\n",
    "    target_path = os.path.join(train_data_dir, str(name)) # 储存对应的文件夹位置\n",
    "    print('Adding {nums} photos to folder {path}'.format(nums=num_grp, path=target_path))\n",
    "    for j in range(num_grp):\n",
    "        image_path = os.path.join(target_path, str(j)+'.jpg')\n",
    "        store_image(image_path, np.array(group.iloc[j, 1:]))\n",
    "    print('done')"
   ]
  },
  {
   "cell_type": "code",
   "execution_count": 95,
   "metadata": {
    "scrolled": true
   },
   "outputs": [
    {
     "name": "stdout",
     "output_type": "stream",
     "text": [
      "reading image labeled 0\n",
      "done\n",
      "reading image labeled 1\n",
      "done\n",
      "reading image labeled 2\n",
      "done\n",
      "reading image labeled 3\n",
      "done\n",
      "reading image labeled 4\n",
      "done\n",
      "reading image labeled 5\n",
      "done\n",
      "reading image labeled 6\n",
      "done\n",
      "reading image labeled 7\n",
      "done\n",
      "reading image labeled 8\n",
      "done\n",
      "reading image labeled 9\n",
      "done\n"
     ]
    }
   ],
   "source": [
    "# reading images data and label them \n",
    "def read_img(imgpath):\n",
    "    img = cv2.imread(imgpath, cv2.IMREAD_GRAYSCALE)\n",
    "    img = img/255 #normalize, 理由见高赞notebook\n",
    "    img = img.reshape(28, 28, 1) #增加一个以便于传入kera model\n",
    "    return img\n",
    "\n",
    "X = [] # store images\n",
    "y = [] # store labels\n",
    "for folder in os.listdir(train_data_dir):\n",
    "    print('reading image labeled {x}'.format(x=folder))\n",
    "    for img in os.listdir(folder_path):\n",
    "        X.append(read_img(os.path.join(folder_path, img)))\n",
    "        y.append(folder)\n",
    "    print('done')"
   ]
  },
  {
   "cell_type": "code",
   "execution_count": 96,
   "metadata": {},
   "outputs": [],
   "source": [
    "# one-hot encoding y labels\n",
    "from keras.utils.np_utils import to_categorical\n",
    "y = to_categorical(y, num_classes = 10)"
   ]
  },
  {
   "cell_type": "code",
   "execution_count": 97,
   "metadata": {},
   "outputs": [],
   "source": [
    "# now, we are successfully import imgs data and their labels!\n",
    "# However, always remember to check null values and plot some examples before get into modeling!"
   ]
  },
  {
   "cell_type": "code",
   "execution_count": null,
   "metadata": {},
   "outputs": [],
   "source": []
  }
 ],
 "metadata": {
  "kernelspec": {
   "display_name": "Python 3",
   "language": "python",
   "name": "python3"
  },
  "language_info": {
   "codemirror_mode": {
    "name": "ipython",
    "version": 3
   },
   "file_extension": ".py",
   "mimetype": "text/x-python",
   "name": "python",
   "nbconvert_exporter": "python",
   "pygments_lexer": "ipython3",
   "version": "3.7.3"
  }
 },
 "nbformat": 4,
 "nbformat_minor": 2
}
