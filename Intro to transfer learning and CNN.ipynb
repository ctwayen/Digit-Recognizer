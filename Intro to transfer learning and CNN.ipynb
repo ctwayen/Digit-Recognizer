{
 "cells": [
  {
   "cell_type": "markdown",
   "metadata": {},
   "source": [
    "## 如果不太熟悉CNN，推荐看一下下面链接，可以只看视频，看完后用这个Notebook自己写一个Transfer Learning，和全部的CNN\n",
    "\n",
    "https://www.kaggle.com/learn/deep-learning"
   ]
  },
  {
   "cell_type": "code",
   "execution_count": 30,
   "metadata": {},
   "outputs": [],
   "source": [
    "# import section, basic\n",
    "import cv2\n",
    "import numpy as np\n",
    "import matplotlib.pyplot as plt\n",
    "import os\n",
    "import pandas as pd"
   ]
  },
  {
   "cell_type": "code",
   "execution_count": 3,
   "metadata": {},
   "outputs": [],
   "source": [
    "data_dir = 'data'\n",
    "test_dir = os.path.join(data_dir, 'test.csv')\n",
    "train_dir = os.path.join(data_dir, 'train.csv')"
   ]
  },
  {
   "cell_type": "code",
   "execution_count": 80,
   "metadata": {},
   "outputs": [],
   "source": [
    "# 读取dataframe data\n",
    "train_df = pd.read_csv(train_dir)\n",
    "test_df = pd.read_csv(test_dir)"
   ]
  },
  {
   "cell_type": "code",
   "execution_count": 105,
   "metadata": {},
   "outputs": [],
   "source": [
    "# 分离label和images\n",
    "train_Y = train_df['label']\n",
    "train_X = train_df.drop('label',axis=1)\n",
    "train_X = np.reshape(np.array(train_X), (-1, 28, 28))\n",
    "train_X = train_X/255\n",
    "train_X = np.array(\n",
    "    [np.stack((x, x, x), axis=2) for x in train_X]\n",
    ")"
   ]
  },
  {
   "cell_type": "code",
   "execution_count": 110,
   "metadata": {},
   "outputs": [
    {
     "data": {
      "text/plain": [
       "(42000, 28, 28, 3)"
      ]
     },
     "metadata": {},
     "output_type": "display_data"
    },
    {
     "data": {
      "text/plain": [
       "<matplotlib.image.AxesImage at 0x23af12497f0>"
      ]
     },
     "execution_count": 110,
     "metadata": {},
     "output_type": "execute_result"
    },
    {
     "data": {
      "image/png": "[encoded data removed]",
      "text/plain": [
       "<Figure size 432x288 with 1 Axes>"
      ]
     },
     "metadata": {
      "needs_background": "light"
     },
     "output_type": "display_data"
    }
   ],
   "source": [
    "# 图像没有变，但是增加了三个channel，变味了resnet50接受的rgb格式图片\n",
    "display(train_X.shape)\n",
    "plt.imshow(train_X[0])"
   ]
  },
  {
   "cell_type": "markdown",
   "metadata": {},
   "source": [
    "## Transfer Learning"
   ]
  },
  {
   "cell_type": "markdown",
   "metadata": {},
   "source": [
    "#### Transfer Learning 的意思就是借用了别人train好的weights, 自己再根据这个dataset在最后添加一层prediction layer \n",
    "\n",
    "我用的model可以在这个链接下载，链接里面也给了这个model包含的layers说明\n",
    "https://www.kaggle.com/keras/resnet50#resnet50_weights_tf_dim_ordering_tf_kernels_notop.h5"
   ]
  },
  {
   "cell_type": "code",
   "execution_count": 44,
   "metadata": {},
   "outputs": [],
   "source": [
    "from tensorflow.python.keras.applications import ResNet50\n",
    "from tensorflow.python.keras.models import Sequential\n",
    "from tensorflow.python.keras.layers import Dense\n",
    "\n",
    "weights_path = 'resnet50_weights_tf_dim_ordering_tf_kernels_notop.h5'\n",
    "t_model = Sequential() # 建立我们的transfer model\n",
    "#把别人训练好的weights和model加进去，这里我们把top layer去掉了\n",
    "t_model.add(ResNet50(include_top=False, pooling='avg', weights=weights_path)) \n",
    "t_model.add(Dense(10, activation='softmax'))\n",
    "t_model.layers[0].trainable=False"
   ]
  },
  {
   "cell_type": "markdown",
   "metadata": {},
   "source": [
    "categorical_crossentropy:https://peltarion.com/knowledge-center/documentation/modeling-view/build-an-ai-model/loss-functions/categorical-crossentropy\n",
    "\n",
    "\n",
    "Adam optimizer\n",
    "https://towardsdatascience.com/adam-latest-trends-in-deep-learning-optimization-6be9a291375c"
   ]
  },
  {
   "cell_type": "code",
   "execution_count": 108,
   "metadata": {},
   "outputs": [],
   "source": [
    "# compile model\n",
    "from keras.utils.np_utils import to_categorical\n",
    "from keras.losses import categorical_crossentropy\n",
    "train_Y = to_categorical(train_Y, num_classes=10) # one-hot 我们的labels\n",
    "# 虽然前面几层都train好了，我们还是要compile我们的model再fit\n",
    "t_model.compile(loss=categorical_crossentropy, optimizer='adam', metrics=['accuracy'])"
   ]
  },
  {
   "cell_type": "markdown",
   "metadata": {},
   "source": [
    "Batch size 和 epochs的含义：\n",
    "https://machinelearningmastery.com/difference-between-a-batch-and-an-epoch/\n",
    "\n",
    "简单来说，batch size代表了一次性传进去多少张图片，epochs代表了总共train所有data多少次"
   ]
  },
  {
   "cell_type": "code",
   "execution_count": 111,
   "metadata": {},
   "outputs": [
    {
     "name": "stdout",
     "output_type": "stream",
     "text": [
      "Train on 33600 samples, validate on 8400 samples\n",
      "Epoch 1/2\n",
      "33600/33600 [==============================] - 99s 3ms/sample - loss: 0.5893 - acc: 0.8196 - val_loss: 1.5385 - val_acc: 0.5161\n",
      "Epoch 2/2\n",
      "33600/33600 [==============================] - 99s 3ms/sample - loss: 0.5245 - acc: 0.8368 - val_loss: 0.5386 - val_acc: 0.8383\n"
     ]
    },
    {
     "data": {
      "text/plain": [
       "<tensorflow.python.keras.callbacks.History at 0x23af1190ef0>"
      ]
     },
     "execution_count": 111,
     "metadata": {},
     "output_type": "execute_result"
    }
   ],
   "source": [
    "t_model.fit(train_X, train_Y, batch_size=100, epochs=2, validation_split=0.2)"
   ]
  },
  {
   "cell_type": "markdown",
   "metadata": {},
   "source": [
    "可以看到我们的transer learning出来的model第一遍epoch在training data中达到了 81%的accuracy， 在validation data中只有 51%， 第二遍epoch后 validation 也有了83.83，如果想要更加好的数字，我们在合理范围内可以调小batch_size，增大epochs，可以自己都试试，但是最后的结果变化应该不会太大了。Resnet50其实并不是很合适我们的dataset，因为它本来是用在更加复杂的，彩色的图片里，我们用它有些大材小用了，并且也不是很合适。后面的code会自己train一个model，它的accuracy会更加高一些"
   ]
  },
  {
   "cell_type": "markdown",
   "metadata": {},
   "source": [
    "## Scratch CNN"
   ]
  },
  {
   "cell_type": "code",
   "execution_count": 131,
   "metadata": {},
   "outputs": [],
   "source": [
    "# 重新读取dataframe data 并且resize and one-hot\n",
    "train_df = pd.read_csv(train_dir)\n",
    "test_df = pd.read_csv(test_dir)\n",
    "train_Y = train_df['label']\n",
    "train_X = train_df.drop('label',axis=1)\n",
    "train_X = np.reshape(\n",
    "    np.array(train_X),\n",
    "    (-1, 28, 28, 1)\n",
    ")\n",
    "train_X = train_X/255\n",
    "train_Y = to_categorical(train_Y, num_classes=10)"
   ]
  },
  {
   "cell_type": "code",
   "execution_count": 132,
   "metadata": {},
   "outputs": [],
   "source": [
    "model = Sequential() # 同样还是Sequential"
   ]
  },
  {
   "cell_type": "code",
   "execution_count": 133,
   "metadata": {},
   "outputs": [],
   "source": [
    "from tensorflow.python.keras.layers import Dense, Conv2D, Flatten"
   ]
  },
  {
   "cell_type": "code",
   "execution_count": 134,
   "metadata": {},
   "outputs": [],
   "source": [
    "# 加入input layer, 因为是input所以要加input_shape\n",
    "model.add(Conv2D(filters=16, \n",
    "                 kernel_size=(5,5),\n",
    "                 activation='relu',\n",
    "                 input_shape=(28, 28, 1)))"
   ]
  },
  {
   "cell_type": "markdown",
   "metadata": {},
   "source": [
    "Conv2D: \n",
    "https://www.saama.com/different-kinds-convolutional-filters/\n",
    "\n",
    "Filters:\n",
    "https://stackoverflow.com/questions/48243360/how-to-determine-the-filter-parameter-in-the-keras-conv2d-function\n",
    "\n",
    "relu:\n",
    "https://medium.com/@danqing/a-practical-guide-to-relu-b83ca804f1f7"
   ]
  },
  {
   "cell_type": "code",
   "execution_count": 135,
   "metadata": {},
   "outputs": [],
   "source": [
    "# 加入后续的Conv2D\n",
    "model.add(Conv2D(filters=32, \n",
    "                 kernel_size=(5,5),\n",
    "                 activation='relu',\n",
    "                 input_shape=(28, 28, 1)))\n",
    "model.add(Conv2D(filters=64, \n",
    "                 kernel_size=(5,5),\n",
    "                 activation='relu',\n",
    "                 ))"
   ]
  },
  {
   "cell_type": "code",
   "execution_count": 136,
   "metadata": {},
   "outputs": [],
   "source": [
    "# 加入flatten，把2d变成1d， 紧跟一个dense\n",
    "model.add(Flatten())\n",
    "model.add(Dense(128, activation='relu'))"
   ]
  },
  {
   "cell_type": "code",
   "execution_count": 137,
   "metadata": {},
   "outputs": [],
   "source": [
    "# 加入softmax最后的预测\n",
    "model.add(Dense(10, activation='softmax'))"
   ]
  },
  {
   "cell_type": "code",
   "execution_count": 138,
   "metadata": {},
   "outputs": [
    {
     "name": "stdout",
     "output_type": "stream",
     "text": [
      "Train on 33600 samples, validate on 8400 samples\n",
      "Epoch 1/4\n",
      "33600/33600 [==============================] - 76s 2ms/sample - loss: 0.1720 - acc: 0.9471 - val_loss: 0.0641 - val_acc: 0.9801\n",
      "Epoch 2/4\n",
      "33600/33600 [==============================] - 77s 2ms/sample - loss: 0.0484 - acc: 0.9848 - val_loss: 0.0444 - val_acc: 0.9875\n",
      "Epoch 3/4\n",
      "33600/33600 [==============================] - 75s 2ms/sample - loss: 0.0314 - acc: 0.9902 - val_loss: 0.0415 - val_acc: 0.9876\n",
      "Epoch 4/4\n",
      "33600/33600 [==============================] - 76s 2ms/sample - loss: 0.0218 - acc: 0.9931 - val_loss: 0.0436 - val_acc: 0.9881\n"
     ]
    },
    {
     "data": {
      "text/plain": [
       "<tensorflow.python.keras.callbacks.History at 0x23b1a0fe198>"
      ]
     },
     "execution_count": 138,
     "metadata": {},
     "output_type": "execute_result"
    }
   ],
   "source": [
    "# comile and fit\n",
    "model.compile(loss=categorical_crossentropy, optimizer='adam', metrics=['accuracy'])\n",
    "model.fit(train_X, train_Y, batch_size=100, epochs=4, validation_split=0.2)"
   ]
  },
  {
   "cell_type": "markdown",
   "metadata": {},
   "source": [
    "但是我们如果看高赞notebook里，https://www.kaggle.com/yassineghouzam/introduction-to-cnn-keras-0-997-top-6\n",
    "\n",
    "除开Conv2D，Dense以外还用到了Maxpool， 和Dropout，这两个layer都是用来防止我们的model overfitting，两个layer都很好理解，下面的链接解释他们的作用\n",
    "\n",
    "Maxpool: \n",
    "https://www.quora.com/What-is-max-pooling-in-convolutional-neural-networks\n",
    "\n",
    "Dropout:\n",
    "https://medium.com/@amarbudhiraja/https-medium-com-amarbudhiraja-learning-less-to-learn-better-dropout-in-deep-machine-learning-74334da4bfc5"
   ]
  },
  {
   "cell_type": "markdown",
   "metadata": {},
   "source": [
    "自己train的model accuracy比transfer learning高了很多，到最后一个epoch 的validation accuracy已经逼近100%了，但是我们到现在都还没有碰过原数据里面的test data，我们的model很可能存在over fitting。"
   ]
  },
  {
   "cell_type": "code",
   "execution_count": null,
   "metadata": {},
   "outputs": [],
   "source": []
  }
 ],
 "metadata": {
  "kernelspec": {
   "display_name": "Python 3",
   "language": "python",
   "name": "python3"
  },
  "language_info": {
   "codemirror_mode": {
    "name": "ipython",
    "version": 3
   },
   "file_extension": ".py",
   "mimetype": "text/x-python",
   "name": "python",
   "nbconvert_exporter": "python",
   "pygments_lexer": "ipython3",
   "version": "3.7.3"
  }
 },
 "nbformat": 4,
 "nbformat_minor": 2
}
